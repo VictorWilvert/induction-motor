{
 "cells": [
  {
   "cell_type": "markdown",
   "metadata": {},
   "source": [
    "# Notebook Parameter Estimation\n",
    "\n",
    "The pourpose of this notebook is to estimate the parameters of a of three-phase induction motor."
   ]
  },
  {
   "cell_type": "code",
   "execution_count": 290,
   "metadata": {},
   "outputs": [],
   "source": [
    "import math\n",
    "import cmath\n",
    "import yaml"
   ]
  },
  {
   "cell_type": "markdown",
   "metadata": {},
   "source": [
    "## Book Keeping"
   ]
  },
  {
   "cell_type": "code",
   "execution_count": 291,
   "metadata": {},
   "outputs": [],
   "source": [
    "MODEL = \"3GBA132210\"\n",
    "VERBOSITY = 1"
   ]
  },
  {
   "cell_type": "markdown",
   "metadata": {},
   "source": [
    "## Relevant Test Report Parameters"
   ]
  },
  {
   "cell_type": "code",
   "execution_count": 292,
   "metadata": {},
   "outputs": [],
   "source": [
    "LINE_RESISTANCE = [1.21878, 1.21939, 1.21817]\n",
    "FREQUENCY = 50\n",
    "MOMENT_OF_INERTIA = 0.0297\n",
    "LINE_VOLTAGE_NO_LOAD = 400\n",
    "INPUT_CURRENT_NO_LOAD = 4.70\n",
    "POWER_FACTOR_NO_LOAD = 0.06\n",
    "LINE_VOLTAGE_BLOCKED_ROTOR = 66\n",
    "INPUT_CURRENT_BLOCKED_ROTOR = 10.50\n",
    "POWER_FACTOR_BLOCKED_ROTOR = 0.36\n",
    "ROTOR_SPEED_75_PERCENT_LOAD = 1469\n",
    "SYNCHRONOUS_SPEED = 1500\n",
    "OUTPUT_POWER_75_PERCENT_LOAD = 4.12e3\n",
    "LINE_VOLTAGE_75_PERCENT_LOAD = 400\n",
    "INPUT_CURRENT_75_PERCENT_LOAD = 8.65\n",
    "POWER_FACTOR_75_PERCENT_LOAD = 0.76\n",
    "LINE_VOLTAGE_100_PERCENT_LOAD = 400\n",
    "INPUT_CURRENT_100_PERCENT_LOAD = 10.90\n",
    "POWER_FACTOR_100_PERCENT_LOAD = 0.81\n",
    "NUMBER_OF_POLES = 4"
   ]
  },
  {
   "cell_type": "code",
   "execution_count": 293,
   "metadata": {},
   "outputs": [
    {
     "data": {
      "text/plain": [
       "'\\nLINE_RESISTANCE = [0.3970, 0.3930, 0.3947]\\nFREQUENCY = 50\\nMOMENT_OF_INERTIA = 0.095\\nLINE_VOLTAGE_NO_LOAD = 401\\nINPUT_CURRENT_NO_LOAD = 11.7\\nPOWER_FACTOR_NO_LOAD = 0.06\\nLINE_VOLTAGE_BLOCKED_ROTOR = 74\\nINPUT_CURRENT_BLOCKED_ROTOR = 28.7\\nPOWER_FACTOR_BLOCKED_ROTOR = 0.35\\nROTOR_SPEED_75_PERCENT_LOAD = 1476\\nSYNCHRONOUS_SPEED = 1500\\nOUTPUT_POWER_75_PERCENT_LOAD = 11.35e3\\nLINE_VOLTAGE_75_PERCENT_LOAD = 400\\nINPUT_CURRENT_75_PERCENT_LOAD = 22.8\\nPOWER_FACTOR_75_PERCENT_LOAD = 0.79\\nLINE_VOLTAGE_100_PERCENT_LOAD = 400\\nINPUT_CURRENT_100_PERCENT_LOAD = 28.7\\nPOWER_FACTOR_100_PERCENT_LOAD = 0.83\\nNUMBER_OF_POLES = 4\\n'"
      ]
     },
     "execution_count": 293,
     "metadata": {},
     "output_type": "execute_result"
    }
   ],
   "source": [
    "\"\"\"\n",
    "LINE_RESISTANCE = [0.3970, 0.3930, 0.3947]\n",
    "FREQUENCY = 50\n",
    "MOMENT_OF_INERTIA = 0.095\n",
    "LINE_VOLTAGE_NO_LOAD = 401\n",
    "INPUT_CURRENT_NO_LOAD = 11.7\n",
    "POWER_FACTOR_NO_LOAD = 0.06\n",
    "LINE_VOLTAGE_BLOCKED_ROTOR = 74\n",
    "INPUT_CURRENT_BLOCKED_ROTOR = 28.7\n",
    "POWER_FACTOR_BLOCKED_ROTOR = 0.35\n",
    "ROTOR_SPEED_75_PERCENT_LOAD = 1476\n",
    "SYNCHRONOUS_SPEED = 1500\n",
    "OUTPUT_POWER_75_PERCENT_LOAD = 11.35e3\n",
    "LINE_VOLTAGE_75_PERCENT_LOAD = 400\n",
    "INPUT_CURRENT_75_PERCENT_LOAD = 22.8\n",
    "POWER_FACTOR_75_PERCENT_LOAD = 0.79\n",
    "LINE_VOLTAGE_100_PERCENT_LOAD = 400\n",
    "INPUT_CURRENT_100_PERCENT_LOAD = 28.7\n",
    "POWER_FACTOR_100_PERCENT_LOAD = 0.83\n",
    "NUMBER_OF_POLES = 4\n",
    "\"\"\""
   ]
  },
  {
   "cell_type": "code",
   "execution_count": 294,
   "metadata": {},
   "outputs": [
    {
     "name": "stdout",
     "output_type": "stream",
     "text": [
      "Rs :: 6.0939e-01\n"
     ]
    }
   ],
   "source": [
    "Rs = (sum(LINE_RESISTANCE) / len(LINE_RESISTANCE)) / 2\n",
    "\n",
    "if VERBOSITY:\n",
    "    print(\"Rs :: {:.4e}\".format(Rs))"
   ]
  },
  {
   "cell_type": "code",
   "execution_count": 295,
   "metadata": {},
   "outputs": [
    {
     "name": "stdout",
     "output_type": "stream",
     "text": [
      "Ls :: 5.3886e-03\n"
     ]
    }
   ],
   "source": [
    "Zbr = (LINE_VOLTAGE_BLOCKED_ROTOR / math.sqrt(3)) / INPUT_CURRENT_BLOCKED_ROTOR\n",
    "\n",
    "Xs = 0.5 * Zbr * math.sin(math.acos(POWER_FACTOR_BLOCKED_ROTOR))\n",
    "Ls = Xs / (SYNCHRONOUS_SPEED * (math.pi / 30) * (NUMBER_OF_POLES / 2))\n",
    "\n",
    "if VERBOSITY:\n",
    "    print(\"Ls :: {:.4e}\".format(Ls))"
   ]
  },
  {
   "cell_type": "code",
   "execution_count": 296,
   "metadata": {},
   "outputs": [
    {
     "name": "stdout",
     "output_type": "stream",
     "text": [
      "Rm :: 9.6116e+02\n",
      "Lm :: 1.5110e-01\n"
     ]
    }
   ],
   "source": [
    "Vsnl = LINE_VOLTAGE_NO_LOAD / math.sqrt(3)\n",
    "Isnl = cmath.rect(INPUT_CURRENT_NO_LOAD, -math.acos(POWER_FACTOR_NO_LOAD))\n",
    "Snl = Vsnl * Isnl.conjugate()\n",
    "Vmsl = Vsnl - Isnl * complex(Rs, Xs)\n",
    "\n",
    "Xm = abs(Vmsl)**2 / (Snl.imag - abs(Isnl)**2 * Xs)\n",
    "Rm = abs(Vmsl)**2 / (Snl.real - abs(Isnl)**2 * Rs)\n",
    "\n",
    "Lm = Xm / (SYNCHRONOUS_SPEED * (math.pi / 30) * (NUMBER_OF_POLES / 2))\n",
    "\n",
    "if VERBOSITY:\n",
    "    print(\"Rm :: {:.4e}\".format(Rm))\n",
    "    print(\"Lm :: {:.4e}\".format(Lm))"
   ]
  },
  {
   "cell_type": "code",
   "execution_count": 297,
   "metadata": {},
   "outputs": [
    {
     "name": "stdout",
     "output_type": "stream",
     "text": [
      "Rr :: 6.7702e-01\n",
      "Lr :: 1.2792e-02\n"
     ]
    }
   ],
   "source": [
    "s75 = (SYNCHRONOUS_SPEED - ROTOR_SPEED_75_PERCENT_LOAD) / SYNCHRONOUS_SPEED\n",
    "\n",
    "Vs75 = LINE_VOLTAGE_75_PERCENT_LOAD / math.sqrt(3)\n",
    "Is75 = cmath.rect(INPUT_CURRENT_75_PERCENT_LOAD, -math.acos(POWER_FACTOR_75_PERCENT_LOAD))\n",
    "S75 = Vs75 * Is75.conjugate()\n",
    "Vm75 = Vs75 - Is75 * complex(Rs, Xs)\n",
    "Im75 = Vm75 / (complex(0, Rm * Xm) / complex(Rm, Xm))\n",
    "Ir75 = Is75 - Im75\n",
    "\n",
    "Rr = ((S75.real - abs(Vm75)**2 / Rm - abs(Is75)**2 * Rs) * s75) / abs(Ir75)**2\n",
    "Xr = (S75.imag - abs(Vm75)**2 / Xm - abs(Is75)**2 * Xs) / abs(Ir75)**2\n",
    "\n",
    "Lr = Xr / (SYNCHRONOUS_SPEED * (math.pi / 30) * (NUMBER_OF_POLES / 2))\n",
    "\n",
    "if VERBOSITY:\n",
    "    print(\"Rr :: {:.4e}\".format(Rr))\n",
    "    print(\"Lr :: {:.4e}\".format(Lr))"
   ]
  },
  {
   "cell_type": "code",
   "execution_count": 298,
   "metadata": {},
   "outputs": [
    {
     "name": "stdout",
     "output_type": "stream",
     "text": [
      "Br :: 2.6131e-03\n"
     ]
    }
   ],
   "source": [
    "Pe75 = 3 * (abs(Ir75)**2 * Rr * ((1 - s75) / s75))\n",
    "Br = (Pe75 - OUTPUT_POWER_75_PERCENT_LOAD) / (ROTOR_SPEED_75_PERCENT_LOAD * (math.pi / 30))**2\n",
    "\n",
    "if VERBOSITY:\n",
    "    print(\"Br :: {:.4e}\".format(Br))"
   ]
  },
  {
   "cell_type": "code",
   "execution_count": 299,
   "metadata": {},
   "outputs": [
    {
     "name": "stdout",
     "output_type": "stream",
     "text": [
      "Ir[A] :: 9.0313e+00\n",
      "n[r/min] :: 1.4569e+03\n",
      "P2[kW] :: 5.5455e+03\n",
      "n[%] :: 9.0658e-01\n"
     ]
    }
   ],
   "source": [
    "Vs100 = LINE_VOLTAGE_100_PERCENT_LOAD / math.sqrt(3)\n",
    "Is100 = cmath.rect(INPUT_CURRENT_100_PERCENT_LOAD, -math.acos(POWER_FACTOR_100_PERCENT_LOAD))\n",
    "S100 = Vs100 * Is100.conjugate()\n",
    "Vm100 = Vs100 - Is100 * complex(Rs, Xs)\n",
    "Im100 = Vm100 / (complex(0, Rm * Xm) / complex(Rm, Xm))\n",
    "Ir100 = Is100 - Im100\n",
    "Pe100 = 3 * ((Vm100 - Ir100 * complex(Rs, Xs)) * Ir100.conjugate()).real\n",
    "s100 = (3 * abs(Ir100)**2 * Rr) / ((3 * abs(Ir100)**2 *Rr) + Pe100)\n",
    "wr100 = (1 - s100) * SYNCHRONOUS_SPEED\n",
    "Pmec100 = Pe100 - (Br * (wr100 * (math.pi / 30))**2)\n",
    "n = (Pmec100 / (3 * S100.real))\n",
    "\n",
    "if VERBOSITY:\n",
    "    print(\"Ir[A] :: {:.4e}\".format(abs(Ir100)))\n",
    "    print(\"n[r/min] :: {:.4e}\".format(wr100))\n",
    "    print(\"P2[kW] :: {:.4e}\".format(Pmec100))\n",
    "    print(\"n[%] :: {:.4e}\".format(n))"
   ]
  },
  {
   "cell_type": "code",
   "execution_count": 300,
   "metadata": {},
   "outputs": [],
   "source": [
    "with open(\"../reports/\" + MODEL + \"_parameters.yaml\", \"w\") as file:\n",
    "    documents = yaml.dump({\n",
    "            \"Vs\": LINE_VOLTAGE_NO_LOAD / math.sqrt(3),\n",
    "            \"Jr\": MOMENT_OF_INERTIA,\n",
    "            \"we\": (2 * math.pi) * FREQUENCY,\n",
    "            \"P\": NUMBER_OF_POLES,\n",
    "            \"Rs\": Rs,\n",
    "            \"Ls\": Ls,\n",
    "            \"Rm\": Rm,\n",
    "            \"Lm\": Lm,\n",
    "            \"Lr\": Lr,\n",
    "            \"Rr\": Rr,\n",
    "            \"Br\": Br,\n",
    "            \"Ir\": abs(Ir100),\n",
    "        }, \n",
    "        file\n",
    "    )"
   ]
  }
 ],
 "metadata": {
  "kernelspec": {
   "display_name": "Python 3.9.12 ('emb5656')",
   "language": "python",
   "name": "python3"
  },
  "language_info": {
   "codemirror_mode": {
    "name": "ipython",
    "version": 3
   },
   "file_extension": ".py",
   "mimetype": "text/x-python",
   "name": "python",
   "nbconvert_exporter": "python",
   "pygments_lexer": "ipython3",
   "version": "3.9.12"
  },
  "orig_nbformat": 4,
  "vscode": {
   "interpreter": {
    "hash": "6af14838a6eabc1e353530c93e12d96f59932cd8436e79029e677621a4fc5b7d"
   }
  }
 },
 "nbformat": 4,
 "nbformat_minor": 2
}
