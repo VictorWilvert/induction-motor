{
 "cells": [
  {
   "cell_type": "markdown",
   "metadata": {},
   "source": [
    "# Notebook Parameter Calculation\n",
    "\n",
    "The pourpose of this notebook is to estimate the parameters of a of three-phase induction motor."
   ]
  },
  {
   "cell_type": "code",
   "execution_count": 31,
   "metadata": {},
   "outputs": [],
   "source": [
    "import math\n",
    "import cmath\n",
    "import yaml"
   ]
  },
  {
   "cell_type": "markdown",
   "metadata": {},
   "source": [
    "## Book Keeping\n",
    "\n",
    "- Type: \n",
    "- Verbosity:"
   ]
  },
  {
   "cell_type": "code",
   "execution_count": 32,
   "metadata": {},
   "outputs": [],
   "source": [
    "TYPE = \"\\\"M2BAX 132MA 4 IMB3/IM1001\\\"\"\n",
    "VERBOSITY = 1"
   ]
  },
  {
   "cell_type": "markdown",
   "metadata": {},
   "source": [
    "## Relevant Test Report Parameters"
   ]
  },
  {
   "cell_type": "code",
   "execution_count": 33,
   "metadata": {},
   "outputs": [],
   "source": [
    "LINE_RESISTANCE = [0.92008, 0.92008, 0.92047]\n",
    "FREQUENCY = 50\n",
    "MOMENT_OF_INERTIA = 0.032\n",
    "LINE_VOLTAGE_NO_LOAD = 400 # 402.3\n",
    "INPUT_CURRENT_NO_LOAD = 8.8\n",
    "POWER_FACTOR_NO_LOAD = 0.06\n",
    "LINE_VOLTAGE_BLOCKED_ROTOR = 86.5\n",
    "INPUT_CURRENT_BLOCKED_ROTOR = 15.3\n",
    "POWER_FACTOR_BLOCKED_ROTOR = 0.40\n",
    "ROTOR_SPEED_75_PERCENT_LOAD = 1468\n",
    "SYNCHRONOUS_SPEED = 1500 # 1498\n",
    "OUTPUT_POWER_75_PERCENT_LOAD = 5.62e3\n",
    "LINE_VOLTAGE_75_PERCENT_LOAD = 398.9\n",
    "INPUT_CURRENT_75_PERCENT_LOAD = 13.2\n",
    "POWER_FACTOR_75_PERCENT_LOAD = 0.70\n",
    "LINE_VOLTAGE_100_PERCENT_LOAD = 399.3\n",
    "INPUT_CURRENT_100_PERCENT_LOAD = 16\n",
    "POWER_FACTOR_100_PERCENT_LOAD = 0.77\n",
    "NUMBER_OF_POLES = 4"
   ]
  },
  {
   "cell_type": "code",
   "execution_count": 34,
   "metadata": {},
   "outputs": [
    {
     "name": "stdout",
     "output_type": "stream",
     "text": [
      "Rs :: 0.4601\n"
     ]
    }
   ],
   "source": [
    "Rs = (sum(LINE_RESISTANCE) / len(LINE_RESISTANCE)) / 2\n",
    "\n",
    "if VERBOSITY:\n",
    "    print(\"Rs :: {:.4f}\".format(Rs))"
   ]
  },
  {
   "cell_type": "code",
   "execution_count": 35,
   "metadata": {},
   "outputs": [
    {
     "name": "stdout",
     "output_type": "stream",
     "text": [
      "Ls :: 4.7613\n"
     ]
    }
   ],
   "source": [
    "Zbr = (LINE_VOLTAGE_BLOCKED_ROTOR / math.sqrt(3)) / INPUT_CURRENT_BLOCKED_ROTOR\n",
    "\n",
    "Xs = 0.5 * Zbr * math.sin(math.acos(POWER_FACTOR_BLOCKED_ROTOR))\n",
    "Ls = Xs / (SYNCHRONOUS_SPEED * (math.pi / 30) * (NUMBER_OF_POLES / 2))\n",
    "\n",
    "if VERBOSITY:\n",
    "    print(\"Ls :: {:.4f}\".format(Ls * 1000))"
   ]
  },
  {
   "cell_type": "code",
   "execution_count": 36,
   "metadata": {},
   "outputs": [
    {
     "name": "stdout",
     "output_type": "stream",
     "text": [
      "Rm :: 548.5375\n",
      "Lm :: 4.7613m\n"
     ]
    }
   ],
   "source": [
    "Vsnl = LINE_VOLTAGE_NO_LOAD / math.sqrt(3)\n",
    "Isnl = cmath.rect(INPUT_CURRENT_NO_LOAD, -math.acos(POWER_FACTOR_NO_LOAD))\n",
    "Snl = Vsnl * Isnl.conjugate()\n",
    "Vmsl = Vsnl - Isnl * complex(Rs, Xs)\n",
    "\n",
    "Xm = abs(Vmsl)**2 / (Snl.imag - abs(Isnl)**2 * Xs)\n",
    "Rm = abs(Vmsl)**2 / (Snl.real - abs(Isnl)**2 * Rs)\n",
    "\n",
    "Lm = Xs / (SYNCHRONOUS_SPEED * (math.pi / 30) * (NUMBER_OF_POLES / 2))\n",
    "\n",
    "if VERBOSITY:\n",
    "    print(\"Rm :: {:.4f}\".format(Rm))\n",
    "    print(\"Lm :: {:.4f}m\".format(Lm * 1000))"
   ]
  },
  {
   "cell_type": "code",
   "execution_count": 37,
   "metadata": {},
   "outputs": [
    {
     "name": "stdout",
     "output_type": "stream",
     "text": [
      "Rr :: 0.4874\n",
      "Lr :: 3.3914m\n"
     ]
    }
   ],
   "source": [
    "s75 = (SYNCHRONOUS_SPEED - ROTOR_SPEED_75_PERCENT_LOAD) / SYNCHRONOUS_SPEED\n",
    "\n",
    "Vs75 = LINE_VOLTAGE_75_PERCENT_LOAD / math.sqrt(3)\n",
    "Is75 = cmath.rect(INPUT_CURRENT_75_PERCENT_LOAD, -math.acos(POWER_FACTOR_75_PERCENT_LOAD))\n",
    "S75 = Vs75 * Is75.conjugate()\n",
    "Vm75 = Vs75 - Is75 * complex(Rs, Xs)\n",
    "Im75 = Vm75 / (complex(0, Rm * Xm) / complex(Rm, Xm))\n",
    "Ir75 = Is75 - Im75\n",
    "\n",
    "Rr = ((S75.real - abs(Vm75)**2 / Rm - abs(Is75)**2 * Rs) * s75) / abs(Ir75)**2\n",
    "Xr = (S75.imag - abs(Vm75)**2 / Xm - abs(Is75)**2 * Xs) / abs(Ir75)**2\n",
    "\n",
    "Lr = Xr / (SYNCHRONOUS_SPEED * (math.pi / 30) * (NUMBER_OF_POLES / 2))\n",
    "\n",
    "if VERBOSITY:\n",
    "    print(\"Rr :: {:.4f}\".format(Rr))\n",
    "    print(\"Lr :: {:.4f}m\".format(Lr * 1000))"
   ]
  },
  {
   "cell_type": "code",
   "execution_count": 38,
   "metadata": {},
   "outputs": [
    {
     "name": "stdout",
     "output_type": "stream",
     "text": [
      "Br :: 0.0064\n"
     ]
    }
   ],
   "source": [
    "Pe75 = 3 * (abs(Ir75)**2 * Rr * ((1 - s75) / s75))\n",
    "Br = (Pe75 - OUTPUT_POWER_75_PERCENT_LOAD) / (ROTOR_SPEED_75_PERCENT_LOAD * (math.pi / 30))**2\n",
    "\n",
    "if VERBOSITY:\n",
    "    print(\"Br :: {:.4f}\".format(Br))"
   ]
  },
  {
   "cell_type": "code",
   "execution_count": 39,
   "metadata": {},
   "outputs": [
    {
     "name": "stdout",
     "output_type": "stream",
     "text": [
      "Ir[A] :: 12.6099\n",
      "n[r/min] :: 1456.0664\n",
      "P2[kW] :: 7.5574\n",
      "n[%] :: 88.6952\n"
     ]
    }
   ],
   "source": [
    "Vs100 = LINE_VOLTAGE_100_PERCENT_LOAD / math.sqrt(3)\n",
    "Is100 = cmath.rect(INPUT_CURRENT_100_PERCENT_LOAD, -math.acos(POWER_FACTOR_100_PERCENT_LOAD))\n",
    "S100 = Vs100 * Is100.conjugate()\n",
    "Vm100 = Vs100 - Is100 * complex(Rs, Xs)\n",
    "Im100 = Vm100 / (complex(0, Rm * Xm) / complex(Rm, Xm))\n",
    "Ir100 = Is100 - Im100\n",
    "Pe100 = 3 * ((Vm100 - Ir100 * complex(Rs, Xs)) * Ir100.conjugate()).real\n",
    "s100 = (3 * abs(Ir100)**2 * Rr) / ((3 * abs(Ir100)**2 *Rr) + Pe100)\n",
    "wr100 = (1 - s100) * SYNCHRONOUS_SPEED\n",
    "Pmec100 = Pe100 - (Br * (wr100 * (math.pi / 30))**2)\n",
    "n = (Pmec100 / (3 * S100.real))\n",
    "if VERBOSITY:\n",
    "    print(\"Ir[A] :: {:.4f}\".format(abs(Ir100)))\n",
    "    print(\"n[r/min] :: {:.4f}\".format(wr100))\n",
    "    print(\"P2[kW] :: {:.4f}\".format(Pmec100 / 1000))\n",
    "    print(\"n[%] :: {:.4f}\".format(n * 100))"
   ]
  },
  {
   "cell_type": "code",
   "execution_count": 40,
   "metadata": {},
   "outputs": [],
   "source": [
    "with open(\"../reports/parameters.yaml\", \"w\") as file:\n",
    "    documents = yaml.dump({\n",
    "            \"provided_parameters\": {\n",
    "                \"Vs\": round((LINE_VOLTAGE_NO_LOAD / math.sqrt(3)) * math.sqrt(2), 6),\n",
    "                \"Jr\": MOMENT_OF_INERTIA,\n",
    "                \"we\": round((2 * math.pi) * FREQUENCY, 6),\n",
    "                \"P\": NUMBER_OF_POLES,\n",
    "            }, \"estimated_parameters\": {\n",
    "                \"Rs\": round(Rs, 6),\n",
    "                \"Ls\": round(Ls, 6),\n",
    "                \"Rm\": round(Rm, 6),\n",
    "                \"Xm\": round(Xm, 6),\n",
    "                \"Xr\": round(Xr, 6),\n",
    "                \"Rr\": round(Rr, 6),\n",
    "                \"Br\": round(Br, 6),\n",
    "                \"Ir\": round(abs(Ir100), 6),\n",
    "            }\n",
    "        }, \n",
    "        file\n",
    "    )"
   ]
  }
 ],
 "metadata": {
  "kernelspec": {
   "display_name": "Python 3.9.7 ('.venv': venv)",
   "language": "python",
   "name": "python3"
  },
  "language_info": {
   "codemirror_mode": {
    "name": "ipython",
    "version": 3
   },
   "file_extension": ".py",
   "mimetype": "text/x-python",
   "name": "python",
   "nbconvert_exporter": "python",
   "pygments_lexer": "ipython3",
   "version": "3.9.7"
  },
  "orig_nbformat": 4,
  "vscode": {
   "interpreter": {
    "hash": "088017a7e4e89f0a37f755397bd465ea4c2938f35c7168ce5f7e41bc6407e9c6"
   }
  }
 },
 "nbformat": 4,
 "nbformat_minor": 2
}
