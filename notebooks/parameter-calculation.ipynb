{
 "cells": [
  {
   "cell_type": "markdown",
   "metadata": {},
   "source": [
    "# Notebook Parameter Calculation\n",
    "\n",
    "The pourpose of this notebook is to estimate the parameters of a of three-phase induction motor."
   ]
  },
  {
   "cell_type": "code",
   "execution_count": 1,
   "metadata": {},
   "outputs": [],
   "source": [
    "import math\n",
    "import cmath\n",
    "import yaml"
   ]
  },
  {
   "cell_type": "markdown",
   "metadata": {},
   "source": [
    "## Book Keeping\n",
    "\n",
    "- Type: \n",
    "- Verbosity:"
   ]
  },
  {
   "cell_type": "code",
   "execution_count": 2,
   "metadata": {},
   "outputs": [],
   "source": [
    "TYPE = \"\\\"M2BAX 132MA 4 IMB3/IM1001\\\"\"\n",
    "VERBOSITY = 1"
   ]
  },
  {
   "cell_type": "markdown",
   "metadata": {},
   "source": [
    "## Relevant Test Report Parameters"
   ]
  },
  {
   "cell_type": "code",
   "execution_count": 3,
   "metadata": {},
   "outputs": [],
   "source": [
    "LINE_RESISTANCE = [0.860, 0.859, 0.860]\n",
    "FREQUENCY = 50\n",
    "MOMENT_OF_INERTIA = 0.032\n",
    "LINE_VOLTAGE_NO_LOAD = 400 # 402.3\n",
    "INPUT_CURRENT_NO_LOAD = 6.8\n",
    "POWER_FACTOR_NO_LOAD = 0.05\n",
    "LINE_VOLTAGE_BLOCKED_ROTOR = 82.5\n",
    "INPUT_CURRENT_BLOCKED_ROTOR = 14.8\n",
    "POWER_FACTOR_BLOCKED_ROTOR = 0.3741\n",
    "ROTOR_SPEED_75_PERCENT_LOAD = 1470\n",
    "SYNCHRONOUS_SPEED = 15000 # 1498\n",
    "OUTPUT_POWER_75_PERCENT_LOAD = 5.62e3\n",
    "LINE_VOLTAGE_75_PERCENT_LOAD = 399.6\n",
    "INPUT_CURRENT_75_PERCENT_LOAD = 11.9\n",
    "POWER_FACTOR_75_PERCENT_LOAD = 0.75\n",
    "LINE_VOLTAGE_100_PERCENT_LOAD = 400.7\n",
    "INPUT_CURRENT_100_PERCENT_LOAD = 14.7\n",
    "POWER_FACTOR_100_PERCENT_LOAD = 0.81\n",
    "NUMBER_OF_POLES = 4"
   ]
  },
  {
   "cell_type": "code",
   "execution_count": 4,
   "metadata": {},
   "outputs": [
    {
     "name": "stdout",
     "output_type": "stream",
     "text": [
      "Rs :: 0.4298\n"
     ]
    }
   ],
   "source": [
    "Rs = (sum(LINE_RESISTANCE) / len(LINE_RESISTANCE)) / 2\n",
    "\n",
    "if VERBOSITY:\n",
    "    print(\"Rs :: {:.4f}\".format(Rs))"
   ]
  },
  {
   "cell_type": "code",
   "execution_count": 5,
   "metadata": {},
   "outputs": [
    {
     "name": "stdout",
     "output_type": "stream",
     "text": [
      "Ls :: 4.7566m\n"
     ]
    }
   ],
   "source": [
    "Zbr = (LINE_VOLTAGE_BLOCKED_ROTOR / math.sqrt(3)) / INPUT_CURRENT_BLOCKED_ROTOR\n",
    "\n",
    "Xs = 0.5 * Zbr * math.sin(math.acos(POWER_FACTOR_BLOCKED_ROTOR))\n",
    "Ls = Xs / (SYNCHRONOUS_SPEED * (math.pi / 30) * (NUMBER_OF_POLES / 2))\n",
    "\n",
    "if VERBOSITY:\n",
    "    print(\"Ls :: {:.4f}m\".format(Ls * 1000))"
   ]
  },
  {
   "cell_type": "code",
   "execution_count": 6,
   "metadata": {},
   "outputs": [
    {
     "name": "stdout",
     "output_type": "stream",
     "text": [
      "Rm :: 830.5233\n",
      "Lm :: 103.5413m\n"
     ]
    }
   ],
   "source": [
    "Vsnl = LINE_VOLTAGE_NO_LOAD / math.sqrt(3)\n",
    "Isnl = cmath.rect(INPUT_CURRENT_NO_LOAD, -math.acos(POWER_FACTOR_NO_LOAD))\n",
    "Snl = Vsnl * Isnl.conjugate()\n",
    "Vmsl = Vsnl - Isnl * complex(Rs, Xs)\n",
    "\n",
    "Xm = abs(Vmsl)**2 / (Snl.imag - abs(Isnl)**2 * Xs)\n",
    "Rm = abs(Vmsl)**2 / (Snl.real - abs(Isnl)**2 * Rs)\n",
    "\n",
    "Lm = Xm / (SYNCHRONOUS_SPEED * (math.pi / 30) * (NUMBER_OF_POLES / 2))\n",
    "\n",
    "if VERBOSITY:\n",
    "    print(\"Rm :: {:.4f}\".format(Rm))\n",
    "    print(\"Lm :: {:.4f}m\".format(Lm * 1000))"
   ]
  },
  {
   "cell_type": "code",
   "execution_count": 7,
   "metadata": {},
   "outputs": [
    {
     "name": "stdout",
     "output_type": "stream",
     "text": [
      "Rr :: 0.4426\n",
      "Lr :: 6.8754m\n"
     ]
    }
   ],
   "source": [
    "s75 = (SYNCHRONOUS_SPEED - ROTOR_SPEED_75_PERCENT_LOAD) / SYNCHRONOUS_SPEED\n",
    "\n",
    "Vs75 = LINE_VOLTAGE_75_PERCENT_LOAD / math.sqrt(3)\n",
    "Is75 = cmath.rect(INPUT_CURRENT_75_PERCENT_LOAD, -math.acos(POWER_FACTOR_75_PERCENT_LOAD))\n",
    "S75 = Vs75 * Is75.conjugate()\n",
    "Vm75 = Vs75 - Is75 * complex(Rs, Xs)\n",
    "Im75 = Vm75 / (complex(0, Rm * Xm) / complex(Rm, Xm))\n",
    "Ir75 = Is75 - Im75\n",
    "\n",
    "Rr = ((S75.real - abs(Vm75)**2 / Rm - abs(Is75)**2 * Rs) * s75) / abs(Ir75)**2\n",
    "Xr = (S75.imag - abs(Vm75)**2 / Xm - abs(Is75)**2 * Xs) / abs(Ir75)**2\n",
    "\n",
    "Lr = Xr / (SYNCHRONOUS_SPEED * (math.pi / 30) * (NUMBER_OF_POLES / 2))\n",
    "\n",
    "if VERBOSITY:\n",
    "    print(\"Rr :: {:.4f}\".format(Rr))\n",
    "    print(\"Lr :: {:.4f}m\".format(Lr * 1000))"
   ]
  },
  {
   "cell_type": "code",
   "execution_count": 8,
   "metadata": {},
   "outputs": [
    {
     "name": "stdout",
     "output_type": "stream",
     "text": [
      "Br :: 4.1435m\n"
     ]
    }
   ],
   "source": [
    "Pe75 = 3 * (abs(Ir75)**2 * Rr * ((1 - s75) / s75))\n",
    "Br = (Pe75 - OUTPUT_POWER_75_PERCENT_LOAD) / (ROTOR_SPEED_75_PERCENT_LOAD * (math.pi / 30))**2\n",
    "\n",
    "if VERBOSITY:\n",
    "    print(\"Br :: {:.4f}m\".format(Br * 1000))"
   ]
  },
  {
   "cell_type": "code",
   "execution_count": 9,
   "metadata": {},
   "outputs": [
    {
     "name": "stdout",
     "output_type": "stream",
     "text": [
      "Ir[A] :: 12.2533\n",
      "n[r/min] :: 1459.8364\n",
      "P2[kW] :: 7.5296\n",
      "n[%] :: 91.1150\n"
     ]
    }
   ],
   "source": [
    "Vs100 = LINE_VOLTAGE_100_PERCENT_LOAD / math.sqrt(3)\n",
    "Is100 = cmath.rect(INPUT_CURRENT_100_PERCENT_LOAD, -math.acos(POWER_FACTOR_100_PERCENT_LOAD))\n",
    "S100 = Vs100 * Is100.conjugate()\n",
    "Vm100 = Vs100 - Is100 * complex(Rs, Xs)\n",
    "Im100 = Vm100 / (complex(0, Rm * Xm) / complex(Rm, Xm))\n",
    "Ir100 = Is100 - Im100\n",
    "Pe100 = 3 * ((Vm100 - Ir100 * complex(Rs, Xs)) * Ir100.conjugate()).real\n",
    "s100 = (3 * abs(Ir100)**2 * Rr) / ((3 * abs(Ir100)**2 *Rr) + Pe100)\n",
    "wr100 = (1 - s100) * SYNCHRONOUS_SPEED\n",
    "Pmec100 = Pe100 - (Br * (wr100 * (math.pi / 30))**2)\n",
    "n = (Pmec100 / (3 * S100.real))\n",
    "\n",
    "if VERBOSITY:\n",
    "    print(\"Ir[A] :: {:.4f}\".format(abs(Ir100)))\n",
    "    print(\"n[r/min] :: {:.4f}\".format(wr100))\n",
    "    print(\"P2[kW] :: {:.4f}\".format(Pmec100 / 1000))\n",
    "    print(\"n[%] :: {:.4f}\".format(n * 100))"
   ]
  },
  {
   "cell_type": "code",
   "execution_count": 10,
   "metadata": {},
   "outputs": [],
   "source": [
    "with open(\"../reports/parameters.yaml\", \"w\") as file:\n",
    "    documents = yaml.dump({\n",
    "            \"provided_parameters\": {\n",
    "                \"Vs\": round(LINE_VOLTAGE_NO_LOAD / math.sqrt(3), 6),\n",
    "                \"Jr\": MOMENT_OF_INERTIA,\n",
    "                \"we\": round((2 * math.pi) * FREQUENCY, 6),\n",
    "                \"P\": NUMBER_OF_POLES,\n",
    "            }, \"estimated_parameters\": {\n",
    "                \"Rs\": round(Rs, 6),\n",
    "                \"Ls\": round(Ls, 6),\n",
    "                \"Rm\": round(Rm, 6),\n",
    "                \"Lm\": round(Lm, 6),\n",
    "                \"Lr\": round(Lr, 6),\n",
    "                \"Rr\": round(Rr, 6),\n",
    "                \"Br\": round(Br, 6),\n",
    "                \"Ir\": round(abs(Ir100), 6),\n",
    "            }\n",
    "        }, \n",
    "        file\n",
    "    )"
   ]
  }
 ],
 "metadata": {
  "kernelspec": {
   "display_name": "Python 3.9.12 ('emb5656')",
   "language": "python",
   "name": "python3"
  },
  "language_info": {
   "codemirror_mode": {
    "name": "ipython",
    "version": 3
   },
   "file_extension": ".py",
   "mimetype": "text/x-python",
   "name": "python",
   "nbconvert_exporter": "python",
   "pygments_lexer": "ipython3",
   "version": "3.9.12"
  },
  "orig_nbformat": 4,
  "vscode": {
   "interpreter": {
    "hash": "6af14838a6eabc1e353530c93e12d96f59932cd8436e79029e677621a4fc5b7d"
   }
  }
 },
 "nbformat": 4,
 "nbformat_minor": 2
}
