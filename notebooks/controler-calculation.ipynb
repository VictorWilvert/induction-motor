{
 "cells": [
  {
   "cell_type": "code",
   "execution_count": 182,
   "metadata": {},
   "outputs": [],
   "source": [
    "import math\n",
    "import cmath\n",
    "import yaml"
   ]
  },
  {
   "cell_type": "code",
   "execution_count": 183,
   "metadata": {},
   "outputs": [],
   "source": [
    "TYPE = \"\\\"M2BAX 132MA 4 IMB3/IM1001\\\"\"\n",
    "VERBOSITY = 1"
   ]
  },
  {
   "cell_type": "code",
   "execution_count": 184,
   "metadata": {},
   "outputs": [],
   "source": [
    "GEARBOX_RATIO = 15\n",
    "SPEED_SENSOR_GAIN = 2/1000\n",
    "LOAD_MOMENT_OF_INERTIA = 3.78\n",
    "LOAD_FRICTION = 5\n",
    "OVERSHOOT = 0.08\n",
    "SPEED_LOOP_RESPONSE_TIME = 1.0"
   ]
  },
  {
   "cell_type": "code",
   "execution_count": 185,
   "metadata": {},
   "outputs": [],
   "source": [
    "with open(\"../reports/parameters.yaml\", \"r\") as file:\n",
    "    parameters = yaml.safe_load(file)"
   ]
  },
  {
   "cell_type": "code",
   "execution_count": 186,
   "metadata": {},
   "outputs": [
    {
     "name": "stdout",
     "output_type": "stream",
     "text": [
      "Jeq :: 0.0488\n",
      "Beq :: 0.0286\n"
     ]
    }
   ],
   "source": [
    "Jr = parameters[\"provided_parameters\"][\"Jr\"]\n",
    "Br = parameters[\"estimated_parameters\"][\"Br\"]\n",
    "\n",
    "Jeq = Jr + LOAD_MOMENT_OF_INERTIA / GEARBOX_RATIO**2\n",
    "Beq = Br + LOAD_FRICTION / GEARBOX_RATIO**2\n",
    "\n",
    "if VERBOSITY:\n",
    "    print(\"Jeq :: {:.4f}\".format(Jeq))\n",
    "    print(\"Beq :: {:.4f}\".format(Beq))"
   ]
  },
  {
   "cell_type": "code",
   "execution_count": 187,
   "metadata": {},
   "outputs": [
    {
     "name": "stdout",
     "output_type": "stream",
     "text": [
      "Kvf :: 0.6758\n",
      "Ksl :: 11.2431\n"
     ]
    }
   ],
   "source": [
    "Vs = parameters[\"provided_parameters\"][\"Vs\"]\n",
    "Ir = parameters[\"estimated_parameters\"][\"Ir\"]\n",
    "Rs = parameters[\"estimated_parameters\"][\"Rs\"]\n",
    "we = parameters[\"provided_parameters\"][\"we\"]\n",
    "Ls = parameters[\"estimated_parameters\"][\"Ls\"]\n",
    "Lm = parameters[\"estimated_parameters\"][\"Lm\"]\n",
    "P = parameters[\"provided_parameters\"][\"P\"]\n",
    "Rr = parameters[\"estimated_parameters\"][\"Rr\"]\n",
    "\n",
    "Kvf = (Vs - Ir * Rs) / (we * (1 + Ls / Lm))\n",
    "Ksl = 3 * (P / 2)**2 * Kvf**2 * (1 / Rr)\n",
    "\n",
    "if VERBOSITY:\n",
    "    print(\"Kvf :: {:.4f}\".format(Kvf))\n",
    "    print(\"Ksl :: {:.4f}\".format(Ksl))"
   ]
  },
  {
   "cell_type": "code",
   "execution_count": 188,
   "metadata": {},
   "outputs": [
    {
     "name": "stdout",
     "output_type": "stream",
     "text": [
      "Kma :: 7.4987\n",
      "Tma :: 1.7042\n",
      "zeta :: 0.6266\n",
      "Tmf :: 0.3333\n",
      "Kp :: 1.2302\n",
      "Ti :: 0.1919\n",
      "tz :: 0.2361\n"
     ]
    }
   ],
   "source": [
    "Kma = (Ksl * SPEED_SENSOR_GAIN * (60 / (2 * math.pi))) / (Beq)\n",
    "Tma = Jeq / Beq\n",
    "zeta = -math.log(OVERSHOOT) / math.sqrt(math.pi**2 + math.log(OVERSHOOT)**2)\n",
    "Tmf = SPEED_LOOP_RESPONSE_TIME / 3\n",
    "\n",
    "Kp = (((2 * Tma) / Tmf) - 1) / Kma\n",
    "Ti = (Tmf**2 * zeta**2 * Kma) / Tma\n",
    "tz = Kp * Ti\n",
    "\n",
    "if VERBOSITY:\n",
    "    print(\"Kma :: {:.4f}\".format(Kma))\n",
    "    print(\"Tma :: {:.4f}\".format(Tma))\n",
    "    print(\"zeta :: {:.4f}\".format(zeta))\n",
    "    print(\"Tmf :: {:.4f}\".format(Tmf))\n",
    "    print(\"Kp :: {:.4f}\".format(Kp))\n",
    "    print(\"Ti :: {:.4f}\".format(Ti))\n",
    "    print(\"tz :: {:.4f}\".format(tz))"
   ]
  },
  {
   "cell_type": "code",
   "execution_count": 189,
   "metadata": {},
   "outputs": [
    {
     "name": "stdout",
     "output_type": "stream",
     "text": [
      "Kvf' :: 0.7166\n",
      "IrRs :: 5.8019\n",
      "Ir :: 12.6099\n",
      "Rs :: 0.4601\n"
     ]
    }
   ],
   "source": [
    "Ir = parameters[\"estimated_parameters\"][\"Ir\"]\n",
    "\n",
    "Kvf_ = Kvf * (1 + Ls / Lm)\n",
    "IrRs = Ir * Rs\n",
    "\n",
    "if VERBOSITY:\n",
    "    print(\"Kvf' :: {:.4f}\".format(Kvf_))\n",
    "    print(\"IrRs :: {:.4f}\".format(IrRs))\n",
    "    print(\"Ir :: {:.4f}\".format(Ir))\n",
    "    print(\"Rs :: {:.4f}\".format(Rs))"
   ]
  }
 ],
 "metadata": {
  "kernelspec": {
   "display_name": "Python 3.9.7 ('.venv': venv)",
   "language": "python",
   "name": "python3"
  },
  "language_info": {
   "codemirror_mode": {
    "name": "ipython",
    "version": 3
   },
   "file_extension": ".py",
   "mimetype": "text/x-python",
   "name": "python",
   "nbconvert_exporter": "python",
   "pygments_lexer": "ipython3",
   "version": "3.9.7"
  },
  "orig_nbformat": 4,
  "vscode": {
   "interpreter": {
    "hash": "088017a7e4e89f0a37f755397bd465ea4c2938f35c7168ce5f7e41bc6407e9c6"
   }
  }
 },
 "nbformat": 4,
 "nbformat_minor": 2
}
