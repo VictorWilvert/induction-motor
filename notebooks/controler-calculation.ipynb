{
 "cells": [
  {
   "cell_type": "code",
   "execution_count": 169,
   "metadata": {},
   "outputs": [],
   "source": [
    "import math\n",
    "import cmath\n",
    "import yaml"
   ]
  },
  {
   "cell_type": "code",
   "execution_count": 170,
   "metadata": {},
   "outputs": [],
   "source": [
    "TYPE = \"\\\"M2BAX 132MA 4 IMB3/IM1001\\\"\"\n",
    "VERBOSITY = 1"
   ]
  },
  {
   "cell_type": "code",
   "execution_count": 171,
   "metadata": {},
   "outputs": [],
   "source": [
    "GEARBOX_RATIO = 15\n",
    "SPEED_SENSOR_GAIN = 2/1000\n",
    "LOAD_MOMENT_OF_INERTIA = 21.6\n",
    "LOAD_FRICTION = 13.5\n",
    "OVERSHOOT = 0.08\n",
    "SPEED_LOOP_RESPONSE_TIME = 1.0"
   ]
  },
  {
   "cell_type": "code",
   "execution_count": 172,
   "metadata": {},
   "outputs": [],
   "source": [
    "with open(\"../reports/parameters.yaml\", \"r\") as file:\n",
    "    parameters = yaml.safe_load(file)"
   ]
  },
  {
   "cell_type": "code",
   "execution_count": 173,
   "metadata": {},
   "outputs": [
    {
     "name": "stdout",
     "output_type": "stream",
     "text": [
      "Ksv :: 0.0191\n",
      "Ksv' :: 1.2732m\n",
      "Jeq :: 0.1280\n",
      "Beq :: 0.0638\n"
     ]
    }
   ],
   "source": [
    "Jr = parameters[\"provided_parameters\"][\"Jr\"]\n",
    "Br = parameters[\"estimated_parameters\"][\"Br\"]\n",
    "\n",
    "Jeq = Jr + LOAD_MOMENT_OF_INERTIA / GEARBOX_RATIO**2\n",
    "Beq = Br + LOAD_FRICTION / GEARBOX_RATIO**2\n",
    "Ksv = SPEED_SENSOR_GAIN * (30 / math.pi)\n",
    "Ksv_ = Ksv / GEARBOX_RATIO\n",
    "\n",
    "if VERBOSITY:\n",
    "    print(\"Ksv :: {:.4f}\".format(Ksv))\n",
    "    print(\"Ksv' :: {:.4f}m\".format(Ksv_ * 1000))\n",
    "    print(\"Jeq :: {:.4f}\".format(Jeq))\n",
    "    print(\"Beq :: {:.4f}\".format(Beq))"
   ]
  },
  {
   "cell_type": "code",
   "execution_count": 174,
   "metadata": {},
   "outputs": [
    {
     "name": "stdout",
     "output_type": "stream",
     "text": [
      "Kvf :: 0.6868\n",
      "Ksl :: 11.9503\n"
     ]
    }
   ],
   "source": [
    "Vs = parameters[\"provided_parameters\"][\"Vs\"]\n",
    "Ir = parameters[\"estimated_parameters\"][\"Ir\"]\n",
    "Rs = parameters[\"estimated_parameters\"][\"Rs\"]\n",
    "we = parameters[\"provided_parameters\"][\"we\"]\n",
    "Ls = parameters[\"estimated_parameters\"][\"Ls\"]\n",
    "Lm = parameters[\"estimated_parameters\"][\"Lm\"]\n",
    "P = parameters[\"provided_parameters\"][\"P\"]\n",
    "Rr = parameters[\"estimated_parameters\"][\"Rr\"]\n",
    "\n",
    "Kvf = (Vs - Ir * Rs) / (we * (1 + Ls / Lm))\n",
    "Ksl = 3 * (P / 2)**2 * Kvf**2 * (1 / Rr)\n",
    "\n",
    "if VERBOSITY:\n",
    "    print(\"Kvf :: {:.4f}\".format(Kvf))\n",
    "    print(\"Ksl :: {:.4f}\".format(Ksl))"
   ]
  },
  {
   "cell_type": "code",
   "execution_count": 175,
   "metadata": {},
   "outputs": [
    {
     "name": "stdout",
     "output_type": "stream",
     "text": [
      "Kma :: 0.2384\n",
      "Tma :: 2.0056\n",
      "zeta :: 0.6266\n",
      "Tmf :: 0.3333\n",
      "Kp :: 46.2800\n",
      "Ti :: 5.1855m\n",
      "tz :: 0.2400\n"
     ]
    }
   ],
   "source": [
    "Kma = (Ksl * Ksv_) / (Beq)\n",
    "Tma = Jeq / Beq\n",
    "zeta = -math.log(OVERSHOOT) / math.sqrt(math.pi**2 + math.log(OVERSHOOT)**2)\n",
    "Tmf = SPEED_LOOP_RESPONSE_TIME / 3\n",
    "\n",
    "Kp = (((2 * Tma) / Tmf) - 1) / Kma\n",
    "Ti = (Tmf**2 * zeta**2 * Kma) / Tma\n",
    "tz = Kp * Ti\n",
    "\n",
    "if VERBOSITY:\n",
    "    print(\"Kma :: {:.4f}\".format(Kma))\n",
    "    print(\"Tma :: {:.4f}\".format(Tma))\n",
    "    print(\"zeta :: {:.4f}\".format(zeta))\n",
    "    print(\"Tmf :: {:.4f}\".format(Tmf))\n",
    "    print(\"Kp :: {:.4f}\".format(Kp))\n",
    "    print(\"Ti :: {:.4f}m\".format(Ti*1000))\n",
    "    print(\"tz :: {:.4f}\".format(tz))"
   ]
  },
  {
   "cell_type": "code",
   "execution_count": 176,
   "metadata": {},
   "outputs": [
    {
     "name": "stdout",
     "output_type": "stream",
     "text": [
      "Kvf' :: 0.7183\n",
      "IrRs :: 5.2668\n",
      "Ir :: 12.2531\n",
      "Rs :: 0.4298\n"
     ]
    }
   ],
   "source": [
    "Ir = parameters[\"estimated_parameters\"][\"Ir\"]\n",
    "\n",
    "Kvf_ = Kvf * (1 + Ls / Lm)\n",
    "IrRs = Ir * Rs\n",
    "\n",
    "if VERBOSITY:\n",
    "    print(\"Kvf' :: {:.4f}\".format(Kvf_))\n",
    "    print(\"IrRs :: {:.4f}\".format(IrRs))\n",
    "    print(\"Ir :: {:.4f}\".format(Ir))\n",
    "    print(\"Rs :: {:.4f}\".format(Rs))"
   ]
  }
 ],
 "metadata": {
  "kernelspec": {
   "display_name": "Python 3.9.12 ('emb5656')",
   "language": "python",
   "name": "python3"
  },
  "language_info": {
   "codemirror_mode": {
    "name": "ipython",
    "version": 3
   },
   "file_extension": ".py",
   "mimetype": "text/x-python",
   "name": "python",
   "nbconvert_exporter": "python",
   "pygments_lexer": "ipython3",
   "version": "3.9.12"
  },
  "orig_nbformat": 4,
  "vscode": {
   "interpreter": {
    "hash": "6af14838a6eabc1e353530c93e12d96f59932cd8436e79029e677621a4fc5b7d"
   }
  }
 },
 "nbformat": 4,
 "nbformat_minor": 2
}
