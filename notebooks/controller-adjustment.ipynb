{
 "cells": [
  {
   "cell_type": "markdown",
   "metadata": {},
   "source": [
    "# Notebook"
   ]
  },
  {
   "cell_type": "code",
   "execution_count": 52,
   "metadata": {},
   "outputs": [],
   "source": [
    "import math\n",
    "import cmath\n",
    "import yaml"
   ]
  },
  {
   "cell_type": "markdown",
   "metadata": {},
   "source": [
    "## Book Keeping"
   ]
  },
  {
   "cell_type": "code",
   "execution_count": 53,
   "metadata": {},
   "outputs": [],
   "source": [
    "MODEL = \"3GBA132210\"\n",
    "VERBOSITY = 1"
   ]
  },
  {
   "cell_type": "markdown",
   "metadata": {},
   "source": []
  },
  {
   "cell_type": "code",
   "execution_count": 54,
   "metadata": {},
   "outputs": [],
   "source": [
    "SWITCHING_FREQUENCY = 1000\n",
    "BUS_VOLTAGE = 650\n",
    "PEAK_CARRIER_VOLTAGE = 3.75\n",
    "GEARBOX_GAIN = 10\n",
    "LOAD_MOMENT_OF_INERTIA = 14.8\n",
    "LOAD_FRICTION_COEFFICIENT = 7.4\n",
    "TORQUE = 22 * 10\n",
    "SPEED_SENSOR_GAIN = 2 / 100\n",
    "SPEED_RESPONSE_TIME = 1.4\n",
    "SPEED_OVERSHOOT = 6"
   ]
  },
  {
   "cell_type": "markdown",
   "metadata": {},
   "source": []
  },
  {
   "cell_type": "code",
   "execution_count": 55,
   "metadata": {},
   "outputs": [],
   "source": [
    "with open(\"../reports/\" + MODEL + \"_parameters.yaml\", \"r\") as file:\n",
    "    parameters = yaml.safe_load(file)"
   ]
  },
  {
   "cell_type": "markdown",
   "metadata": {},
   "source": []
  },
  {
   "cell_type": "code",
   "execution_count": 56,
   "metadata": {},
   "outputs": [
    {
     "name": "stdout",
     "output_type": "stream",
     "text": [
      "Kc :: 173.33333333333334\n"
     ]
    }
   ],
   "source": [
    "Kc = BUS_VOLTAGE / PEAK_CARRIER_VOLTAGE\n",
    "Ts = 1 / SWITCHING_FREQUENCY\n",
    "\n",
    "if VERBOSITY:\n",
    "    print(\"Kc :: {0}\".format(Kc))"
   ]
  },
  {
   "cell_type": "markdown",
   "metadata": {},
   "source": []
  },
  {
   "cell_type": "code",
   "execution_count": 57,
   "metadata": {},
   "outputs": [
    {
     "name": "stdout",
     "output_type": "stream",
     "text": [
      "Ksv :: 1.9099e-01\n",
      "Ksv' :: 1.9099e-02\n",
      "Jeq :: 1.7770e-01\n",
      "Beq :: 7.6613e-02\n"
     ]
    }
   ],
   "source": [
    "Jr = parameters[\"Jr\"]\n",
    "Br = parameters[\"Br\"]\n",
    "\n",
    "Jeq = Jr + LOAD_MOMENT_OF_INERTIA / GEARBOX_GAIN**2\n",
    "Beq = Br + LOAD_FRICTION_COEFFICIENT / GEARBOX_GAIN**2\n",
    "Ksv = SPEED_SENSOR_GAIN * (30 / math.pi)\n",
    "Ksv_ = Ksv / GEARBOX_GAIN\n",
    "\n",
    "if VERBOSITY:\n",
    "    print(\"Ksv :: {:.4e}\".format(Ksv))\n",
    "    print(\"Ksv' :: {:.4e}\".format(Ksv_))\n",
    "    print(\"Jeq :: {:.4e}\".format(Jeq))\n",
    "    print(\"Beq :: {:.4e}\".format(Beq))"
   ]
  },
  {
   "cell_type": "code",
   "execution_count": 58,
   "metadata": {},
   "outputs": [
    {
     "name": "stdout",
     "output_type": "stream",
     "text": [
      "Kvf :: 6.9288e-01\n",
      "Ksl :: 8.5093e+00\n"
     ]
    }
   ],
   "source": [
    "Vs = parameters[\"Vs\"]\n",
    "Ir = parameters[\"Ir\"]\n",
    "Rs = parameters[\"Rs\"]\n",
    "we = parameters[\"we\"]\n",
    "Ls = parameters[\"Ls\"]\n",
    "Lm = parameters[\"Lm\"]\n",
    "P = parameters[\"P\"]\n",
    "Rr = parameters[\"Rr\"]\n",
    "\n",
    "Kvf = (Vs - Ir * Rs) / (we * (1 + Ls / Lm))\n",
    "Ksl = 3 * (P / 2)**2 * Kvf**2 * (1 / Rr)\n",
    "\n",
    "if VERBOSITY:\n",
    "    print(\"Kvf :: {:.4e}\".format(Kvf))\n",
    "    print(\"Ksl :: {:.4e}\".format(Ksl))"
   ]
  },
  {
   "cell_type": "code",
   "execution_count": 59,
   "metadata": {},
   "outputs": [
    {
     "name": "stdout",
     "output_type": "stream",
     "text": [
      "Kp :: 4.2147e+00\n",
      "Ti :: 8.8642e-02\n",
      "tz :: 3.7360e-01\n"
     ]
    }
   ],
   "source": [
    "Kma = (Ksl * Ksv_) / (Beq)\n",
    "Tma = Jeq / Beq\n",
    "zeta = -math.log(SPEED_OVERSHOOT / 100) / math.sqrt(math.pi**2 + math.log(SPEED_OVERSHOOT / 100)**2)\n",
    "Tmf = SPEED_RESPONSE_TIME / 3\n",
    "\n",
    "Kp = (((2 * Tma) / Tmf) - 1) / Kma\n",
    "Ti = (Tmf**2 * zeta**2 * Kma) / Tma\n",
    "tz = Kp * Ti\n",
    "\n",
    "if VERBOSITY:\n",
    "    print(\"Kp :: {:.4e}\".format(Kp))\n",
    "    print(\"Ti :: {:.4e}\".format(Ti))\n",
    "    print(\"tz :: {:.4e}\".format(tz))"
   ]
  },
  {
   "cell_type": "code",
   "execution_count": 60,
   "metadata": {},
   "outputs": [
    {
     "name": "stdout",
     "output_type": "stream",
     "text": [
      "Kvf' :: 7.1759e-01\n",
      "IrRs :: 5.5036e+00\n"
     ]
    }
   ],
   "source": [
    "Ir = parameters[\"Ir\"]\n",
    "\n",
    "Kvf_ = Kvf * (1 + Ls / Lm)\n",
    "IrRs = Ir * Rs\n",
    "\n",
    "if VERBOSITY:\n",
    "    print(\"Kvf' :: {:.4e}\".format(Kvf_))\n",
    "    print(\"IrRs :: {:.4e}\".format(IrRs))"
   ]
  },
  {
   "cell_type": "code",
   "execution_count": 61,
   "metadata": {},
   "outputs": [],
   "source": [
    "with open(\"../reports/\" + MODEL + \"_parameters.yaml\", \"a\") as file:\n",
    "    documents = yaml.dump({\n",
    "            \"Vcc\": BUS_VOLTAGE,\n",
    "            \"Vtpp\": PEAK_CARRIER_VOLTAGE,\n",
    "            \"fs\": SWITCHING_FREQUENCY,\n",
    "            \"Kc\": Kc,\n",
    "            \"Ksv\": SPEED_SENSOR_GAIN,\n",
    "            \"Kg\": GEARBOX_GAIN,\n",
    "            \"Bl\": LOAD_FRICTION_COEFFICIENT,\n",
    "            \"Jl\": LOAD_MOMENT_OF_INERTIA,\n",
    "            \"Kp\": Kp,\n",
    "            \"Ti\": Ti,\n",
    "            \"tz\": tz,\n",
    "            \"Kvf_\": Kvf_,\n",
    "            \"IrRs\": IrRs,\n",
    "            \"Ksv_\": Ksv_,\n",
    "            \"Ko\": TORQUE\n",
    "        }, \n",
    "        file\n",
    "    )"
   ]
  }
 ],
 "metadata": {
  "kernelspec": {
   "display_name": "Python 3.9.12 ('emb5656')",
   "language": "python",
   "name": "python3"
  },
  "language_info": {
   "codemirror_mode": {
    "name": "ipython",
    "version": 3
   },
   "file_extension": ".py",
   "mimetype": "text/x-python",
   "name": "python",
   "nbconvert_exporter": "python",
   "pygments_lexer": "ipython3",
   "version": "3.9.12"
  },
  "orig_nbformat": 4,
  "vscode": {
   "interpreter": {
    "hash": "6af14838a6eabc1e353530c93e12d96f59932cd8436e79029e677621a4fc5b7d"
   }
  }
 },
 "nbformat": 4,
 "nbformat_minor": 2
}
